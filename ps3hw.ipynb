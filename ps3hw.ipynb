{
 "cells": [
  {
   "cell_type": "markdown",
   "metadata": {},
   "source": [
    "Name: "
   ]
  },
  {
   "cell_type": "markdown",
   "metadata": {},
   "source": [
    "## Problem Set 3 (Homework): Interacting with the Alpha Vantage API using Python libraries"
   ]
  },
  {
   "cell_type": "markdown",
   "metadata": {},
   "source": [
    "Complete each step of boths parts of the notebook. The first part calls the Alpha Vantage API using the HTTP request library. The second part uses the Python Alpha Vantage library. Refer to Part 1 and Part 2 notebooks for code examples and any documentation. \n",
    "\n",
    "Documentation links:\n",
    "<br />Alpha Vantage: https://www.alphavantage.co/documentation/\n",
    "<br />Alpha Vantage Python library: https://alpha-vantage.readthedocs.io/en/latest/#\n",
    "<br />Pandas DataFrame: https://pandas.pydata.org/pandas-docs/stable/reference/frame.html"
   ]
  },
  {
   "cell_type": "markdown",
   "metadata": {},
   "source": [
    "#### Part 1: Alpha Vantage HTTP (RESTful) API call"
   ]
  },
  {
   "cell_type": "markdown",
   "metadata": {},
   "source": [
    "(1) Import the \"requests\" library:\n",
    "(1 point)"
   ]
  },
  {
   "cell_type": "code",
   "execution_count": 1,
   "metadata": {},
   "outputs": [],
   "source": [
    "# pandas\n",
    "import pandas as pd\n",
    "# requests\n",
    "import requests\n",
    "# alpha_vantage TimeSeries class\n",
    "from alpha_vantage.timeseries import TimeSeries\n",
    "# mmatplotlib.pyplot as plt\n",
    "import matplotlib.pyplot as plt"
   ]
  },
  {
   "cell_type": "markdown",
   "metadata": {},
   "source": [
    "(2) Assign your Alpha Vantage API key to a variable: (1 point)"
   ]
  },
  {
   "cell_type": "code",
   "execution_count": 2,
   "metadata": {},
   "outputs": [],
   "source": [
    "api_key = \"V836SIOENHQ2MSG7\""
   ]
  },
  {
   "cell_type": "markdown",
   "metadata": {},
   "source": [
    "(3) Assign a stock ticker symbol to a variable: (1 point)"
   ]
  },
  {
   "cell_type": "code",
   "execution_count": 3,
   "metadata": {},
   "outputs": [],
   "source": [
    "ticker = \"amzn\""
   ]
  },
  {
   "cell_type": "markdown",
   "metadata": {},
   "source": [
    "(4) Make an API call using the Alpha Vantage HTTP API: (5 points)\n",
    "* Compose a URL string and assign it to a variable called link\n",
    "* Format the URL with the above variables used for your API key and stock ticker symbol\n",
    "* Get daily stock data for the last 100 obervations\n",
    "* Retrieve the data as type CSV\n",
    "* Refer to the documentation: https://www.alphavantage.co/documentation/"
   ]
  },
  {
   "cell_type": "code",
   "execution_count": 4,
   "metadata": {},
   "outputs": [
    {
     "name": "stdout",
     "output_type": "stream",
     "text": [
      "https://www.alphavantage.co/query?function=TIME_SERIES_INTRADAY&symbol=amzn&interval=1min&apikey=V836SIOENHQ2MSG7\n"
     ]
    }
   ],
   "source": [
    "link = f\"https://www.alphavantage.co/query?function=TIME_SERIES_INTRADAY&symbol={ticker}&interval=1min&apikey={api_key}\"\n",
    "print(link)"
   ]
  },
  {
   "cell_type": "markdown",
   "metadata": {},
   "source": [
    "(5) Print the output from the HTTP API call: (2 points)\n",
    "* It should print as text in CSV format"
   ]
  },
  {
   "cell_type": "code",
   "execution_count": 5,
   "metadata": {
    "scrolled": true
   },
   "outputs": [
    {
     "name": "stdout",
     "output_type": "stream",
     "text": [
      "<Response [200]>\n"
     ]
    }
   ],
   "source": [
    "Amzn = requests.get(link)\n",
    "print(Amzn)"
   ]
  },
  {
   "cell_type": "markdown",
   "metadata": {},
   "source": [
    "#### Part 2: API call using alpha_vantage Python library\n",
    "Refer to the docs: https://alpha-vantage.readthedocs.io/en/latest/"
   ]
  },
  {
   "cell_type": "markdown",
   "metadata": {},
   "source": [
    "(1) Import the necessary items (2 lines): (2 points)"
   ]
  },
  {
   "cell_type": "code",
   "execution_count": 6,
   "metadata": {},
   "outputs": [],
   "source": [
    "import requests\n",
    "from alpha_vantage.timeseries import TimeSeries\n",
    "import matplotlib.pyplot as plt\n",
    "\n",
    "from pypfopt.efficient_frontier import EfficientFrontier\n",
    "from pypfopt import risk_models\n",
    "from pypfopt import expected_returns\n",
    "from pypfopt.discrete_allocation import DiscreteAllocation, get_latest_prices"
   ]
  },
  {
   "cell_type": "code",
   "execution_count": null,
   "metadata": {},
   "outputs": [],
   "source": []
  },
  {
   "cell_type": "markdown",
   "metadata": {},
   "source": [
    "(2) Create an instance of the TimeSeries class: (2 points)\n",
    "* Use the API key variable assigned in Part 1\n",
    "* Import the data as a pandas dataframe"
   ]
  },
  {
   "cell_type": "code",
   "execution_count": 7,
   "metadata": {},
   "outputs": [],
   "source": [
    "ts = TimeSeries(key=api_key,output_format='pandas')"
   ]
  },
  {
   "cell_type": "code",
   "execution_count": 8,
   "metadata": {},
   "outputs": [],
   "source": [
    "amzn_data, amzn_meta_data = ts.get_daily(symbol='AMZN', outputsize='full')"
   ]
  },
  {
   "cell_type": "code",
   "execution_count": 9,
   "metadata": {},
   "outputs": [
    {
     "name": "stdout",
     "output_type": "stream",
     "text": [
      "              1. open    2. high     3. low  4. close   5. volume\n",
      "date                                                             \n",
      "1999-10-05    77.1250    79.7500    74.7500    78.438  16420100.0\n",
      "1999-10-06    79.5630    83.6250    79.5000    82.438  15532200.0\n",
      "1999-10-07    85.6250    90.0000    83.5000    87.313  24609400.0\n",
      "1999-10-08    86.8750    89.5000    84.4380    89.250  11458700.0\n",
      "1999-10-11    89.1250    89.3750    86.7500    88.375   6692400.0\n",
      "1999-10-12    87.6880    88.5000    84.8750    84.938   7231400.0\n",
      "1999-10-13    82.5000    85.0000    79.5630    79.938  11561800.0\n",
      "1999-10-14    80.5000    83.3750    78.4380    79.594  12713000.0\n",
      "1999-10-15    75.8750    77.0630    73.9380    75.063  12186900.0\n",
      "1999-10-18    75.0630    76.5000    71.0630    74.063  10793800.0\n",
      "1999-10-19    77.6250    78.2500    75.6250    76.625   7780000.0\n",
      "1999-10-20    78.3130    80.6254    76.3440    80.500   7735500.0\n",
      "1999-10-21    77.9380    82.8130    77.0630    80.750   8961000.0\n",
      "1999-10-22    81.4380    83.6188    78.0000    78.625   7304800.0\n",
      "1999-10-25    79.0000    83.0000    77.9380    82.750   7180900.0\n",
      "1999-10-26    83.1250    84.3130    80.1250    81.250   7711500.0\n",
      "1999-10-27    79.3750    79.3750    74.8130    75.938  12835200.0\n",
      "1999-10-28    69.5000    73.1250    65.8750    71.000  35726400.0\n",
      "1999-10-29    72.7500    72.8130    69.2500    70.625   9688800.0\n",
      "1999-11-01    68.0630    71.8750    66.3130    69.125  12824100.0\n",
      "1999-11-02    69.7500    70.0000    65.0630    66.438  13243200.0\n",
      "1999-11-03    68.1880    68.5000    65.0000    65.813  10772100.0\n",
      "1999-11-04    67.1880    67.1880    61.0025    63.063  16759200.0\n",
      "1999-11-05    64.7500    65.5000    62.2516    64.938  11091400.0\n",
      "1999-11-08    64.8130    80.0000    63.5000    78.000  32339400.0\n",
      "1999-11-09    82.0000    83.0630    70.0000    70.813  26477100.0\n",
      "1999-11-10    71.5630    75.0102    70.1250    72.000  11506700.0\n",
      "1999-11-11    74.7500    76.6250    71.3750    73.000   9293900.0\n",
      "1999-11-12    73.7435    75.0000    70.8130    74.938  10319600.0\n",
      "1999-11-15    75.6215    76.0000    73.3130    73.500   6437200.0\n",
      "...               ...        ...        ...       ...         ...\n",
      "2019-08-23  1793.0300  1804.9000  1745.2300  1749.620   5270800.0\n",
      "2019-08-26  1766.9100  1770.0000  1743.5100  1768.870   3080000.0\n",
      "2019-08-27  1775.7300  1779.4000  1746.6801  1761.830   3019700.0\n",
      "2019-08-28  1755.0000  1767.8600  1744.0500  1764.250   2419700.0\n",
      "2019-08-29  1783.0000  1798.5500  1777.2500  1786.400   3015100.0\n",
      "2019-08-30  1797.4900  1799.7400  1764.5699  1776.290   3058700.0\n",
      "2019-09-03  1770.0000  1800.8000  1768.0000  1789.840   3543000.0\n",
      "2019-09-04  1805.0000  1807.6300  1796.2300  1800.620   2324100.0\n",
      "2019-09-05  1821.9500  1842.0000  1815.5800  1840.720   3310800.0\n",
      "2019-09-06  1838.2200  1840.6500  1826.4000  1833.510   2496900.0\n",
      "2019-09-09  1841.0000  1850.0000  1824.6100  1831.350   2999500.0\n",
      "2019-09-10  1822.7500  1825.8101  1805.3400  1820.550   2613900.0\n",
      "2019-09-11  1812.1400  1833.4200  1809.0800  1822.990   2432800.0\n",
      "2019-09-12  1837.6300  1853.6600  1834.2800  1843.550   2823500.0\n",
      "2019-09-13  1842.0100  1846.1200  1835.1700  1839.340   1971300.0\n",
      "2019-09-16  1824.0200  1825.6899  1800.2000  1807.840   3675500.0\n",
      "2019-09-17  1807.0800  1823.9900  1804.1000  1822.550   1982400.0\n",
      "2019-09-18  1817.0400  1822.0601  1795.5000  1817.460   2505600.0\n",
      "2019-09-19  1821.0200  1832.5699  1817.9000  1821.500   2031500.0\n",
      "2019-09-20  1821.7100  1830.6300  1780.9200  1794.160   5341900.0\n",
      "2019-09-23  1777.0000  1792.7000  1767.3199  1785.300   2922300.0\n",
      "2019-09-24  1790.6100  1795.7100  1735.5500  1741.610   4616000.0\n",
      "2019-09-25  1747.3600  1773.0000  1723.0000  1768.330   3493200.0\n",
      "2019-09-26  1762.7900  1763.3700  1731.5000  1739.840   3536800.0\n",
      "2019-09-27  1748.0000  1749.1200  1713.8199  1725.450   3907200.0\n",
      "2019-09-30  1726.9900  1737.4600  1709.2200  1735.910   2644700.0\n",
      "2019-10-01  1746.0000  1755.6000  1728.4100  1735.650   3084500.0\n",
      "2019-10-02  1727.7400  1728.8900  1705.0000  1713.230   3301100.0\n",
      "2019-10-03  1713.0000  1725.0000  1685.0601  1724.420   3468200.0\n",
      "2019-10-04  1726.0200  1740.5750  1719.2300  1739.650   2281477.0\n",
      "\n",
      "[5033 rows x 5 columns]\n"
     ]
    }
   ],
   "source": [
    "print(amzn_data)"
   ]
  },
  {
   "cell_type": "markdown",
   "metadata": {},
   "source": [
    "(3) Retrieve daily stock price data by calling the API with the appropriate \"get\" method: (5 point)\n",
    "* Use the ticket symbol variable you used in Part 1 as an argument in the get method\n",
    "* Get the last 100 obervations\n",
    "* Store the time series data and the meta data into two separate variables on the same line\n",
    "* Refer to the docs: https://alpha-vantage.readthedocs.io/en/latest/genindex.html"
   ]
  },
  {
   "cell_type": "code",
   "execution_count": null,
   "metadata": {},
   "outputs": [],
   "source": []
  },
  {
   "cell_type": "code",
   "execution_count": 12,
   "metadata": {},
   "outputs": [],
   "source": [
    "amzn_ready = amzn_data['4. close']"
   ]
  },
  {
   "cell_type": "code",
   "execution_count": 17,
   "metadata": {},
   "outputs": [
    {
     "name": "stdout",
     "output_type": "stream",
     "text": [
      "date\n",
      "1999-10-05      78.438\n",
      "1999-10-06      82.438\n",
      "1999-10-07      87.313\n",
      "1999-10-08      89.250\n",
      "1999-10-11      88.375\n",
      "1999-10-12      84.938\n",
      "1999-10-13      79.938\n",
      "1999-10-14      79.594\n",
      "1999-10-15      75.063\n",
      "1999-10-18      74.063\n",
      "1999-10-19      76.625\n",
      "1999-10-20      80.500\n",
      "1999-10-21      80.750\n",
      "1999-10-22      78.625\n",
      "1999-10-25      82.750\n",
      "1999-10-26      81.250\n",
      "1999-10-27      75.938\n",
      "1999-10-28      71.000\n",
      "1999-10-29      70.625\n",
      "1999-11-01      69.125\n",
      "1999-11-02      66.438\n",
      "1999-11-03      65.813\n",
      "1999-11-04      63.063\n",
      "1999-11-05      64.938\n",
      "1999-11-08      78.000\n",
      "1999-11-09      70.813\n",
      "1999-11-10      72.000\n",
      "1999-11-11      73.000\n",
      "1999-11-12      74.938\n",
      "1999-11-15      73.500\n",
      "                ...   \n",
      "2019-08-23    1749.620\n",
      "2019-08-26    1768.870\n",
      "2019-08-27    1761.830\n",
      "2019-08-28    1764.250\n",
      "2019-08-29    1786.400\n",
      "2019-08-30    1776.290\n",
      "2019-09-03    1789.840\n",
      "2019-09-04    1800.620\n",
      "2019-09-05    1840.720\n",
      "2019-09-06    1833.510\n",
      "2019-09-09    1831.350\n",
      "2019-09-10    1820.550\n",
      "2019-09-11    1822.990\n",
      "2019-09-12    1843.550\n",
      "2019-09-13    1839.340\n",
      "2019-09-16    1807.840\n",
      "2019-09-17    1822.550\n",
      "2019-09-18    1817.460\n",
      "2019-09-19    1821.500\n",
      "2019-09-20    1794.160\n",
      "2019-09-23    1785.300\n",
      "2019-09-24    1741.610\n",
      "2019-09-25    1768.330\n",
      "2019-09-26    1739.840\n",
      "2019-09-27    1725.450\n",
      "2019-09-30    1735.910\n",
      "2019-10-01    1735.650\n",
      "2019-10-02    1713.230\n",
      "2019-10-03    1724.420\n",
      "2019-10-04    1739.650\n",
      "Name: 4. close, Length: 5033, dtype: float64\n"
     ]
    }
   ],
   "source": [
    "print(amzn_ready)\n"
   ]
  },
  {
   "cell_type": "code",
   "execution_count": 48,
   "metadata": {},
   "outputs": [],
   "source": []
  },
  {
   "cell_type": "code",
   "execution_count": 49,
   "metadata": {
    "scrolled": true
   },
   "outputs": [
    {
     "data": {
      "text/html": [
       "<div>\n",
       "<style scoped>\n",
       "    .dataframe tbody tr th:only-of-type {\n",
       "        vertical-align: middle;\n",
       "    }\n",
       "\n",
       "    .dataframe tbody tr th {\n",
       "        vertical-align: top;\n",
       "    }\n",
       "\n",
       "    .dataframe thead th {\n",
       "        text-align: right;\n",
       "    }\n",
       "</style>\n",
       "<table border=\"1\" class=\"dataframe\">\n",
       "  <thead>\n",
       "    <tr style=\"text-align: right;\">\n",
       "      <th></th>\n",
       "      <th>amzn</th>\n",
       "    </tr>\n",
       "    <tr>\n",
       "      <th>date</th>\n",
       "      <th></th>\n",
       "    </tr>\n",
       "  </thead>\n",
       "  <tbody>\n",
       "  </tbody>\n",
       "</table>\n",
       "</div>"
      ],
      "text/plain": [
       "Empty DataFrame\n",
       "Columns: [amzn]\n",
       "Index: []"
      ]
     },
     "execution_count": 49,
     "metadata": {},
     "output_type": "execute_result"
    }
   ],
   "source": []
  },
  {
   "cell_type": "code",
   "execution_count": 59,
   "metadata": {},
   "outputs": [],
   "source": [
    "df = pd.DataFrame(columns=['amzn'])"
   ]
  },
  {
   "cell_type": "code",
   "execution_count": 60,
   "metadata": {},
   "outputs": [],
   "source": [
    "df['amzn'] = amzn_ready"
   ]
  },
  {
   "cell_type": "code",
   "execution_count": 62,
   "metadata": {},
   "outputs": [],
   "source": [
    "df = df[-100:]"
   ]
  },
  {
   "cell_type": "markdown",
   "metadata": {},
   "source": [
    "(4) Print the dataframe (1 point)"
   ]
  },
  {
   "cell_type": "code",
   "execution_count": 63,
   "metadata": {},
   "outputs": [
    {
     "data": {
      "text/html": [
       "<div>\n",
       "<style scoped>\n",
       "    .dataframe tbody tr th:only-of-type {\n",
       "        vertical-align: middle;\n",
       "    }\n",
       "\n",
       "    .dataframe tbody tr th {\n",
       "        vertical-align: top;\n",
       "    }\n",
       "\n",
       "    .dataframe thead th {\n",
       "        text-align: right;\n",
       "    }\n",
       "</style>\n",
       "<table border=\"1\" class=\"dataframe\">\n",
       "  <thead>\n",
       "    <tr style=\"text-align: right;\">\n",
       "      <th></th>\n",
       "      <th>amzn</th>\n",
       "    </tr>\n",
       "    <tr>\n",
       "      <th>date</th>\n",
       "      <th></th>\n",
       "    </tr>\n",
       "  </thead>\n",
       "  <tbody>\n",
       "    <tr>\n",
       "      <th>2019-05-15</th>\n",
       "      <td>1871.15</td>\n",
       "    </tr>\n",
       "    <tr>\n",
       "      <th>2019-05-16</th>\n",
       "      <td>1907.57</td>\n",
       "    </tr>\n",
       "    <tr>\n",
       "      <th>2019-05-17</th>\n",
       "      <td>1869.00</td>\n",
       "    </tr>\n",
       "    <tr>\n",
       "      <th>2019-05-20</th>\n",
       "      <td>1858.97</td>\n",
       "    </tr>\n",
       "    <tr>\n",
       "      <th>2019-05-21</th>\n",
       "      <td>1857.52</td>\n",
       "    </tr>\n",
       "    <tr>\n",
       "      <th>2019-05-22</th>\n",
       "      <td>1859.68</td>\n",
       "    </tr>\n",
       "    <tr>\n",
       "      <th>2019-05-23</th>\n",
       "      <td>1815.48</td>\n",
       "    </tr>\n",
       "    <tr>\n",
       "      <th>2019-05-24</th>\n",
       "      <td>1823.28</td>\n",
       "    </tr>\n",
       "    <tr>\n",
       "      <th>2019-05-28</th>\n",
       "      <td>1836.43</td>\n",
       "    </tr>\n",
       "    <tr>\n",
       "      <th>2019-05-29</th>\n",
       "      <td>1819.19</td>\n",
       "    </tr>\n",
       "    <tr>\n",
       "      <th>2019-05-30</th>\n",
       "      <td>1816.32</td>\n",
       "    </tr>\n",
       "    <tr>\n",
       "      <th>2019-05-31</th>\n",
       "      <td>1775.07</td>\n",
       "    </tr>\n",
       "    <tr>\n",
       "      <th>2019-06-03</th>\n",
       "      <td>1692.69</td>\n",
       "    </tr>\n",
       "    <tr>\n",
       "      <th>2019-06-04</th>\n",
       "      <td>1729.56</td>\n",
       "    </tr>\n",
       "    <tr>\n",
       "      <th>2019-06-05</th>\n",
       "      <td>1738.50</td>\n",
       "    </tr>\n",
       "    <tr>\n",
       "      <th>2019-06-06</th>\n",
       "      <td>1754.36</td>\n",
       "    </tr>\n",
       "    <tr>\n",
       "      <th>2019-06-07</th>\n",
       "      <td>1804.03</td>\n",
       "    </tr>\n",
       "    <tr>\n",
       "      <th>2019-06-10</th>\n",
       "      <td>1860.63</td>\n",
       "    </tr>\n",
       "    <tr>\n",
       "      <th>2019-06-11</th>\n",
       "      <td>1863.70</td>\n",
       "    </tr>\n",
       "    <tr>\n",
       "      <th>2019-06-12</th>\n",
       "      <td>1855.32</td>\n",
       "    </tr>\n",
       "    <tr>\n",
       "      <th>2019-06-13</th>\n",
       "      <td>1870.30</td>\n",
       "    </tr>\n",
       "    <tr>\n",
       "      <th>2019-06-14</th>\n",
       "      <td>1869.67</td>\n",
       "    </tr>\n",
       "    <tr>\n",
       "      <th>2019-06-17</th>\n",
       "      <td>1886.03</td>\n",
       "    </tr>\n",
       "    <tr>\n",
       "      <th>2019-06-18</th>\n",
       "      <td>1901.37</td>\n",
       "    </tr>\n",
       "    <tr>\n",
       "      <th>2019-06-19</th>\n",
       "      <td>1908.79</td>\n",
       "    </tr>\n",
       "    <tr>\n",
       "      <th>2019-06-20</th>\n",
       "      <td>1918.19</td>\n",
       "    </tr>\n",
       "    <tr>\n",
       "      <th>2019-06-21</th>\n",
       "      <td>1911.30</td>\n",
       "    </tr>\n",
       "    <tr>\n",
       "      <th>2019-06-24</th>\n",
       "      <td>1913.90</td>\n",
       "    </tr>\n",
       "    <tr>\n",
       "      <th>2019-06-25</th>\n",
       "      <td>1878.27</td>\n",
       "    </tr>\n",
       "    <tr>\n",
       "      <th>2019-06-26</th>\n",
       "      <td>1897.83</td>\n",
       "    </tr>\n",
       "    <tr>\n",
       "      <th>...</th>\n",
       "      <td>...</td>\n",
       "    </tr>\n",
       "    <tr>\n",
       "      <th>2019-08-23</th>\n",
       "      <td>1749.62</td>\n",
       "    </tr>\n",
       "    <tr>\n",
       "      <th>2019-08-26</th>\n",
       "      <td>1768.87</td>\n",
       "    </tr>\n",
       "    <tr>\n",
       "      <th>2019-08-27</th>\n",
       "      <td>1761.83</td>\n",
       "    </tr>\n",
       "    <tr>\n",
       "      <th>2019-08-28</th>\n",
       "      <td>1764.25</td>\n",
       "    </tr>\n",
       "    <tr>\n",
       "      <th>2019-08-29</th>\n",
       "      <td>1786.40</td>\n",
       "    </tr>\n",
       "    <tr>\n",
       "      <th>2019-08-30</th>\n",
       "      <td>1776.29</td>\n",
       "    </tr>\n",
       "    <tr>\n",
       "      <th>2019-09-03</th>\n",
       "      <td>1789.84</td>\n",
       "    </tr>\n",
       "    <tr>\n",
       "      <th>2019-09-04</th>\n",
       "      <td>1800.62</td>\n",
       "    </tr>\n",
       "    <tr>\n",
       "      <th>2019-09-05</th>\n",
       "      <td>1840.72</td>\n",
       "    </tr>\n",
       "    <tr>\n",
       "      <th>2019-09-06</th>\n",
       "      <td>1833.51</td>\n",
       "    </tr>\n",
       "    <tr>\n",
       "      <th>2019-09-09</th>\n",
       "      <td>1831.35</td>\n",
       "    </tr>\n",
       "    <tr>\n",
       "      <th>2019-09-10</th>\n",
       "      <td>1820.55</td>\n",
       "    </tr>\n",
       "    <tr>\n",
       "      <th>2019-09-11</th>\n",
       "      <td>1822.99</td>\n",
       "    </tr>\n",
       "    <tr>\n",
       "      <th>2019-09-12</th>\n",
       "      <td>1843.55</td>\n",
       "    </tr>\n",
       "    <tr>\n",
       "      <th>2019-09-13</th>\n",
       "      <td>1839.34</td>\n",
       "    </tr>\n",
       "    <tr>\n",
       "      <th>2019-09-16</th>\n",
       "      <td>1807.84</td>\n",
       "    </tr>\n",
       "    <tr>\n",
       "      <th>2019-09-17</th>\n",
       "      <td>1822.55</td>\n",
       "    </tr>\n",
       "    <tr>\n",
       "      <th>2019-09-18</th>\n",
       "      <td>1817.46</td>\n",
       "    </tr>\n",
       "    <tr>\n",
       "      <th>2019-09-19</th>\n",
       "      <td>1821.50</td>\n",
       "    </tr>\n",
       "    <tr>\n",
       "      <th>2019-09-20</th>\n",
       "      <td>1794.16</td>\n",
       "    </tr>\n",
       "    <tr>\n",
       "      <th>2019-09-23</th>\n",
       "      <td>1785.30</td>\n",
       "    </tr>\n",
       "    <tr>\n",
       "      <th>2019-09-24</th>\n",
       "      <td>1741.61</td>\n",
       "    </tr>\n",
       "    <tr>\n",
       "      <th>2019-09-25</th>\n",
       "      <td>1768.33</td>\n",
       "    </tr>\n",
       "    <tr>\n",
       "      <th>2019-09-26</th>\n",
       "      <td>1739.84</td>\n",
       "    </tr>\n",
       "    <tr>\n",
       "      <th>2019-09-27</th>\n",
       "      <td>1725.45</td>\n",
       "    </tr>\n",
       "    <tr>\n",
       "      <th>2019-09-30</th>\n",
       "      <td>1735.91</td>\n",
       "    </tr>\n",
       "    <tr>\n",
       "      <th>2019-10-01</th>\n",
       "      <td>1735.65</td>\n",
       "    </tr>\n",
       "    <tr>\n",
       "      <th>2019-10-02</th>\n",
       "      <td>1713.23</td>\n",
       "    </tr>\n",
       "    <tr>\n",
       "      <th>2019-10-03</th>\n",
       "      <td>1724.42</td>\n",
       "    </tr>\n",
       "    <tr>\n",
       "      <th>2019-10-04</th>\n",
       "      <td>1739.65</td>\n",
       "    </tr>\n",
       "  </tbody>\n",
       "</table>\n",
       "<p>100 rows × 1 columns</p>\n",
       "</div>"
      ],
      "text/plain": [
       "               amzn\n",
       "date               \n",
       "2019-05-15  1871.15\n",
       "2019-05-16  1907.57\n",
       "2019-05-17  1869.00\n",
       "2019-05-20  1858.97\n",
       "2019-05-21  1857.52\n",
       "2019-05-22  1859.68\n",
       "2019-05-23  1815.48\n",
       "2019-05-24  1823.28\n",
       "2019-05-28  1836.43\n",
       "2019-05-29  1819.19\n",
       "2019-05-30  1816.32\n",
       "2019-05-31  1775.07\n",
       "2019-06-03  1692.69\n",
       "2019-06-04  1729.56\n",
       "2019-06-05  1738.50\n",
       "2019-06-06  1754.36\n",
       "2019-06-07  1804.03\n",
       "2019-06-10  1860.63\n",
       "2019-06-11  1863.70\n",
       "2019-06-12  1855.32\n",
       "2019-06-13  1870.30\n",
       "2019-06-14  1869.67\n",
       "2019-06-17  1886.03\n",
       "2019-06-18  1901.37\n",
       "2019-06-19  1908.79\n",
       "2019-06-20  1918.19\n",
       "2019-06-21  1911.30\n",
       "2019-06-24  1913.90\n",
       "2019-06-25  1878.27\n",
       "2019-06-26  1897.83\n",
       "...             ...\n",
       "2019-08-23  1749.62\n",
       "2019-08-26  1768.87\n",
       "2019-08-27  1761.83\n",
       "2019-08-28  1764.25\n",
       "2019-08-29  1786.40\n",
       "2019-08-30  1776.29\n",
       "2019-09-03  1789.84\n",
       "2019-09-04  1800.62\n",
       "2019-09-05  1840.72\n",
       "2019-09-06  1833.51\n",
       "2019-09-09  1831.35\n",
       "2019-09-10  1820.55\n",
       "2019-09-11  1822.99\n",
       "2019-09-12  1843.55\n",
       "2019-09-13  1839.34\n",
       "2019-09-16  1807.84\n",
       "2019-09-17  1822.55\n",
       "2019-09-18  1817.46\n",
       "2019-09-19  1821.50\n",
       "2019-09-20  1794.16\n",
       "2019-09-23  1785.30\n",
       "2019-09-24  1741.61\n",
       "2019-09-25  1768.33\n",
       "2019-09-26  1739.84\n",
       "2019-09-27  1725.45\n",
       "2019-09-30  1735.91\n",
       "2019-10-01  1735.65\n",
       "2019-10-02  1713.23\n",
       "2019-10-03  1724.42\n",
       "2019-10-04  1739.65\n",
       "\n",
       "[100 rows x 1 columns]"
      ]
     },
     "execution_count": 63,
     "metadata": {},
     "output_type": "execute_result"
    }
   ],
   "source": [
    "df"
   ]
  },
  {
   "cell_type": "code",
   "execution_count": null,
   "metadata": {},
   "outputs": [],
   "source": []
  },
  {
   "cell_type": "markdown",
   "metadata": {},
   "source": [
    "(BONUS POINT) Print just the highest closing price of the last 100 obervations:\n",
    "* Refer to the pandas docs: https://pandas.pydata.org/pandas-docs/stable/"
   ]
  },
  {
   "cell_type": "code",
   "execution_count": 65,
   "metadata": {
    "scrolled": true
   },
   "outputs": [
    {
     "data": {
      "text/html": [
       "<div>\n",
       "<style scoped>\n",
       "    .dataframe tbody tr th:only-of-type {\n",
       "        vertical-align: middle;\n",
       "    }\n",
       "\n",
       "    .dataframe tbody tr th {\n",
       "        vertical-align: top;\n",
       "    }\n",
       "\n",
       "    .dataframe thead th {\n",
       "        text-align: right;\n",
       "    }\n",
       "</style>\n",
       "<table border=\"1\" class=\"dataframe\">\n",
       "  <thead>\n",
       "    <tr style=\"text-align: right;\">\n",
       "      <th></th>\n",
       "      <th>amzn</th>\n",
       "    </tr>\n",
       "    <tr>\n",
       "      <th>date</th>\n",
       "      <th></th>\n",
       "    </tr>\n",
       "  </thead>\n",
       "  <tbody>\n",
       "    <tr>\n",
       "      <th>2019-07-15</th>\n",
       "      <td>2020.99</td>\n",
       "    </tr>\n",
       "  </tbody>\n",
       "</table>\n",
       "</div>"
      ],
      "text/plain": [
       "               amzn\n",
       "date               \n",
       "2019-07-15  2020.99"
      ]
     },
     "execution_count": 65,
     "metadata": {},
     "output_type": "execute_result"
    }
   ],
   "source": [
    "df.nlargest(1,['amzn']) "
   ]
  },
  {
   "cell_type": "code",
   "execution_count": null,
   "metadata": {},
   "outputs": [],
   "source": []
  }
 ],
 "metadata": {
  "kernelspec": {
   "display_name": "Python 3",
   "language": "python",
   "name": "python3"
  },
  "language_info": {
   "codemirror_mode": {
    "name": "ipython",
    "version": 3
   },
   "file_extension": ".py",
   "mimetype": "text/x-python",
   "name": "python",
   "nbconvert_exporter": "python",
   "pygments_lexer": "ipython3",
   "version": "3.7.3"
  }
 },
 "nbformat": 4,
 "nbformat_minor": 2
}
